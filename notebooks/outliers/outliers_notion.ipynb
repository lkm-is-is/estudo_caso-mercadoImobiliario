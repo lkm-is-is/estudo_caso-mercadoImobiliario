{
 "cells": [
  {
   "cell_type": "code",
   "execution_count": 4,
   "id": "974465ff",
   "metadata": {},
   "outputs": [],
   "source": [
    "#importação de bibliotecas do py\n",
    "import pandas as pd\n",
    "import numpy as np\n",
    "\n",
    "#importação do dataset\n",
    "df = pd.read_csv(\"D:/Downloads-UD/dataset-ap-geral.csv\", sep=\";\", encoding=\"utf-8\")"
   ]
  },
  {
   "cell_type": "code",
   "execution_count": 8,
   "id": "fbaa74e0",
   "metadata": {},
   "outputs": [
    {
     "name": "stdout",
     "output_type": "stream",
     "text": [
      "     valor  area(m2)      preco_m2\n",
      "0   753000        84   8964.285714\n",
      "1  2590000       167  15508.982036\n",
      "2   579000        54  10722.222222\n",
      "3   350000        80   4375.000000\n",
      "4   869000       122   7122.950820\n",
      "5   950000       182   5219.780220\n",
      "6   350000        64   5468.750000\n",
      "7   285000        45   6333.333333\n",
      "8   550000        70   7857.142857\n",
      "9  2800000       287   9756.097561\n"
     ]
    }
   ],
   "source": [
    "#Ciação do variável preco/m2\n",
    "\n",
    "if \"area(m2)\" in df.columns:\n",
    "    #substitui vírgulas por pontos e converte para numérico (caso necessário)\n",
    "    df[\"area\"] = df[\"area(m2)\"].astype(str).str.replace(\",\", \".\")\n",
    "    df[\"area\"] = pd.to_numeric(df[\"area\"], errors=\"coerce\")\n",
    "\n",
    "    #remove registros com área inválida ou zero para evitar divisões por zero\n",
    "    df = df[df[\"area(m2)\"].notnull() & (df[\"area(m2)\"] > 0)]\n",
    "\n",
    "    #calcula o preço por metro quadrado\n",
    "    df[\"preco_m2\"] = df[\"valor\"] / df[\"area\"]\n",
    "\n",
    "    #exibe as 5 primeiras linhas\n",
    "    print(df[[\"valor\", \"area(m2)\", \"preco_m2\"]].head(10))\n",
    "else:\n",
    "    print(\"A coluna 'area' não foi encontrada no dataframe.\")"
   ]
  },
  {
   "cell_type": "code",
   "execution_count": 9,
   "id": "50404d97",
   "metadata": {},
   "outputs": [
    {
     "name": "stdout",
     "output_type": "stream",
     "text": [
      "Estatísticas dos OUTLIERS em preco_m2:\n",
      "\n",
      "count      369.000000\n",
      "mean     19314.178554\n",
      "std       6320.712662\n",
      "min      14848.484848\n",
      "25%      15822.784810\n",
      "50%      17200.000000\n",
      "75%      20233.463035\n",
      "max      79750.000000\n",
      "Name: preco_m2, dtype: float64\n",
      "\n",
      "Outliers representam 4.39% dos imóveis.\n",
      "\n",
      "TOP 10 maiores valores de preco_m2 (outliers):\n",
      "         valor  area(m2)      preco_m2\n",
      "576    1595000        20  79750.000000\n",
      "7056  31677000       570  55573.684211\n",
      "1586  14000000       270  51851.851852\n",
      "8136   1967863        48  40997.145833\n",
      "1921   1967863        48  40997.145833\n",
      "2594  16450000       415  39638.554217\n",
      "4272  13000000       343  37900.874636\n",
      "1898   8400000       228  36842.105263\n",
      "6793   8000001       220  36363.640909\n",
      "496     360000        10  36000.000000\n"
     ]
    }
   ],
   "source": [
    "#iqr\n",
    "Q1 = np.percentile(df[\"preco_m2\"], 25)\n",
    "Q3 = np.percentile(df[\"preco_m2\"], 75)\n",
    "IQR = Q3 - Q1\n",
    "\n",
    "limite_inferior = Q1 - 1.5 * IQR\n",
    "limite_superior = Q3 + 1.5 * IQR\n",
    "\n",
    "#retirada de outliers\n",
    "outliers = df[(df[\"preco_m2\"] < limite_inferior) | (df[\"preco_m2\"] > limite_superior)]\n",
    "\n",
    "#stats\n",
    "print(\"Estatísticas dos OUTLIERS em preco_m2:\\n\")\n",
    "print(outliers[\"preco_m2\"].describe())\n",
    "\n",
    "#%outliers\n",
    "percentual = (outliers.shape[0] / df.shape[0]) * 100\n",
    "print(f\"\\nOutliers representam {percentual:.2f}% dos imóveis.\\n\")\n",
    "\n",
    "#extremos\n",
    "print(\"TOP 10 maiores valores de preco_m2 (outliers):\")\n",
    "print(outliers.sort_values(\"preco_m2\", ascending=False)[[\"valor\", \"area(m2)\", \"preco_m2\"]].head(10))"
   ]
  },
  {
   "cell_type": "code",
   "execution_count": 10,
   "id": "b5f96094",
   "metadata": {},
   "outputs": [
    {
     "name": "stdout",
     "output_type": "stream",
     "text": [
      "\n",
      "Top bairros/cidades com + outliers de preço_m2:\n",
      "bairro/cidade\n",
      "São Paulo         65\n",
      "Pinheiros         23\n",
      "Moema             21\n",
      "Brooklin          18\n",
      "Perdizes          18\n",
      "Vila Mariana      16\n",
      "Rio de Janeiro    15\n",
      "Campo Belo        13\n",
      "Vila Olímpia      11\n",
      "Paraíso           11\n",
      "Name: count, dtype: int64\n"
     ]
    }
   ],
   "source": [
    "#bairros/cidades com mais outliers\n",
    "\n",
    "if \"bairro/cidade\" in df.columns:\n",
    "    print(\"\\nTop bairros/cidades com + outliers de preço_m2:\")\n",
    "    print(outliers[\"bairro/cidade\"].value_counts().head(10))"
   ]
  },
  {
   "cell_type": "code",
   "execution_count": 11,
   "id": "d1b9047d",
   "metadata": {},
   "outputs": [
    {
     "name": "stdout",
     "output_type": "stream",
     "text": [
      "=== MÉDIAS DOS OUTLIERS ===\n",
      "valor         2.570433e+06\n",
      "area(m2)      1.249268e+02\n",
      "quartos       2.441734e+00\n",
      "garagem       1.945799e+00\n",
      "banheiro      2.739837e+00\n",
      "suite         3.604336e-01\n",
      "condominio    1.293263e+03\n",
      "dtype: float64\n",
      "\n",
      "=== MÉDIAS DOS NÃO-OUTLIERS ===\n",
      "valor         546337.225501\n",
      "area(m2)          79.163741\n",
      "quartos            2.273565\n",
      "garagem            1.306811\n",
      "banheiro           1.817831\n",
      "suite              0.341551\n",
      "condominio       718.345412\n",
      "dtype: float64\n",
      "\n",
      "=== DIFERENÇA RELATIVA (%) ===\n",
      "valor         370.48\n",
      "area(m2)       57.81\n",
      "quartos         7.40\n",
      "garagem        48.90\n",
      "banheiro       50.72\n",
      "suite           5.53\n",
      "condominio     80.03\n",
      "dtype: float64\n"
     ]
    }
   ],
   "source": [
    "# Não-outliers\n",
    "nao_outliers = df[(df[\"preco_m2\"] >= limite_inferior) & (df[\"preco_m2\"] <= limite_superior)]\n",
    "\n",
    "# Selecionar colunas de interesse (ajuste conforme suas colunas reais)\n",
    "colunas_interesse = [\"valor\", \"area(m2)\", \"quartos\", \"garagem\", \"banheiro\", \"suite\", \"condominio\"]\n",
    "\n",
    "# Verificar colunas que existem no DataFrame\n",
    "colunas_presentes = [col for col in colunas_interesse if col in df.columns]\n",
    "\n",
    "# MÉDIAS\n",
    "print(\"=== MÉDIAS DOS OUTLIERS ===\")\n",
    "print(outliers[colunas_presentes].mean())\n",
    "\n",
    "print(\"\\n=== MÉDIAS DOS NÃO-OUTLIERS ===\")\n",
    "print(nao_outliers[colunas_presentes].mean())\n",
    "\n",
    "# DIFERENÇA RELATIVA\n",
    "print(\"\\n=== DIFERENÇA RELATIVA (%) ===\")\n",
    "diferenca = ((outliers[colunas_presentes].mean() - nao_outliers[colunas_presentes].mean()) / nao_outliers[colunas_presentes].mean()) * 100\n",
    "print(diferenca.round(2))"
   ]
  }
 ],
 "metadata": {
  "kernelspec": {
   "display_name": "Python 3",
   "language": "python",
   "name": "python3"
  },
  "language_info": {
   "codemirror_mode": {
    "name": "ipython",
    "version": 3
   },
   "file_extension": ".py",
   "mimetype": "text/x-python",
   "name": "python",
   "nbconvert_exporter": "python",
   "pygments_lexer": "ipython3",
   "version": "3.13.2"
  }
 },
 "nbformat": 4,
 "nbformat_minor": 5
}
